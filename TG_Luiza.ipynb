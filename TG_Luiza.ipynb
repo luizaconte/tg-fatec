{
  "nbformat": 4,
  "nbformat_minor": 0,
  "metadata": {
    "colab": {
      "provenance": []
    },
    "kernelspec": {
      "name": "python3",
      "display_name": "Python 3"
    }
  },
  "cells": [
    {
      "cell_type": "markdown",
      "metadata": {
        "id": "wgEU0Ot0uyGz"
      },
      "source": [
        "# Trabalho de Graduação\n",
        "\n",
        "https://www.kaggle.com/datasets/chitwanmanchanda/fraudulent-transactions-data?resource=download\n",
        "\n",
        "**Dicionário de dados:**\n",
        "\n",
        "step - mapeia uma unidade de tempo no mundo real. Neste caso, 1 passo é 1 hora de tempo. Total de etapas 744 (simulação de 30 dias).\n",
        "\n",
        "type - CASH-IN, CASH-OUT, DÉBITO, PAGAMENTO e TRANSFERÊNCIA.\n",
        "\n",
        "amount - valor da transação em moeda local.\n",
        "\n",
        "nameOrig - cliente que iniciou a transação\n",
        "\n",
        "oldbalanceOrg - saldo inicial antes da transação\n",
        "\n",
        "newbalanceOrig - novo saldo após a transação\n",
        "\n",
        "nameDest - cliente que é o destinatário da transação\n",
        "\n",
        "oldbalanceDest - destinatário do saldo inicial antes da transação. Observe que não há informações para clientes que começam com M (Comerciantes).\n",
        "\n",
        "newbalanceDest - novo destinatário do saldo após a transação. Observe que não há informações para clientes que começam com M (Comerciantes).\n",
        "\n",
        "isFraud - São as transações feitas pelos agentes fraudulentos dentro da simulação. Neste conjunto de dados específico, o comportamento fraudulento dos agentes visa lucrar ao assumir o controle das contas dos clientes e tentar esvaziar os fundos transferindo para outra conta e depois sacando do sistema.\n",
        "\n",
        "isFlaggedFraud - O modelo de negócios visa controlar transferências massivas de uma conta para outra e sinaliza tentativas ilegais. Uma tentativa ilegal neste conjunto de dados é uma tentativa de transferir mais de 200.000 em uma única transação."
      ]
    },
    {
      "cell_type": "markdown",
      "metadata": {
        "id": "Ru9rq07bJQ8C"
      },
      "source": [
        "### 1. Dataset"
      ]
    },
    {
      "cell_type": "code",
      "metadata": {
        "id": "SMNu3KvrrBqI",
        "colab": {
          "base_uri": "https://localhost:8080/"
        },
        "outputId": "8b3f97aa-794c-4856-a3de-5d4164205808"
      },
      "source": [
        "# Instalação das bibliotecas\n",
        "!pip install pyspark;\n",
        "\n",
        "import pandas as pd\n",
        "import matplotlib.pyplot as plt\n",
        "from sklearn.metrics import confusion_matrix\n",
        "from sklearn.model_selection import train_test_split\n",
        "from sklearn import metrics\n",
        "from pyspark import SparkFiles\n",
        "from pyspark.sql import SparkSession\n",
        "from google.colab import drive\n",
        "from sklearn.tree import DecisionTreeClassifier"
      ],
      "execution_count": null,
      "outputs": [
        {
          "output_type": "stream",
          "name": "stdout",
          "text": [
            "Looking in indexes: https://pypi.org/simple, https://us-python.pkg.dev/colab-wheels/public/simple/\n",
            "Collecting pyspark\n",
            "  Downloading pyspark-3.3.1.tar.gz (281.4 MB)\n",
            "\u001b[K     |████████████████████████████████| 281.4 MB 30 kB/s \n",
            "\u001b[?25hCollecting py4j==0.10.9.5\n",
            "  Downloading py4j-0.10.9.5-py2.py3-none-any.whl (199 kB)\n",
            "\u001b[K     |████████████████████████████████| 199 kB 47.3 MB/s \n",
            "\u001b[?25hBuilding wheels for collected packages: pyspark\n",
            "  Building wheel for pyspark (setup.py) ... \u001b[?25l\u001b[?25hdone\n",
            "  Created wheel for pyspark: filename=pyspark-3.3.1-py2.py3-none-any.whl size=281845512 sha256=5b4b7c8f24ff93a05d0282d14cf8fe3b48fb8c14830baa1274ba8596642b4442\n",
            "  Stored in directory: /root/.cache/pip/wheels/43/dc/11/ec201cd671da62fa9c5cc77078235e40722170ceba231d7598\n",
            "Successfully built pyspark\n",
            "Installing collected packages: py4j, pyspark\n",
            "Successfully installed py4j-0.10.9.5 pyspark-3.3.1\n"
          ]
        }
      ]
    },
    {
      "cell_type": "code",
      "source": [
        "# Conexão  com ambiente de nuvem\n",
        "drive.mount('/content/drive')"
      ],
      "metadata": {
        "id": "pc_BI9J_Ezzx",
        "colab": {
          "base_uri": "https://localhost:8080/"
        },
        "outputId": "be6a6e9b-c670-46db-cdd8-2a9fbe1f91b6"
      },
      "execution_count": null,
      "outputs": [
        {
          "output_type": "stream",
          "name": "stdout",
          "text": [
            "Mounted at /content/drive\n"
          ]
        }
      ]
    },
    {
      "cell_type": "code",
      "source": [
        "# Leitura da base de dados\n",
        "spark = SparkSession.builder.getOrCreate()\n",
        "dataframe = spark.read.csv(SparkFiles.get(\"/content/drive/MyDrive/TG/data.csv\"), header=True, inferSchema=True, sep=\",\")"
      ],
      "metadata": {
        "id": "e8GBLHj4phAd"
      },
      "execution_count": null,
      "outputs": []
    },
    {
      "cell_type": "code",
      "metadata": {
        "id": "YF-nw70RtvZ_"
      },
      "source": [
        "dataframe.createOrReplaceTempView(\"base\")"
      ],
      "execution_count": null,
      "outputs": []
    },
    {
      "cell_type": "code",
      "metadata": {
        "id": "nQG5RvF-H06D",
        "colab": {
          "base_uri": "https://localhost:8080/"
        },
        "outputId": "380a382b-ea05-4571-e2a3-855a08efd2ea"
      },
      "source": [
        "query = \"\"\"\n",
        "  SELECT *\n",
        "  FROM base\n",
        "\"\"\"\n",
        "\n",
        "spark.sql(query).show()"
      ],
      "execution_count": null,
      "outputs": [
        {
          "output_type": "stream",
          "name": "stdout",
          "text": [
            "+----+--------+---------+-----------+-------------+--------------+-----------+--------------+--------------+-------+--------------+\n",
            "|step|    type|   amount|   nameOrig|oldbalanceOrg|newbalanceOrig|   nameDest|oldbalanceDest|newbalanceDest|isFraud|isFlaggedFraud|\n",
            "+----+--------+---------+-----------+-------------+--------------+-----------+--------------+--------------+-------+--------------+\n",
            "|   1| PAYMENT|  9839.64|C1231006815|     170136.0|     160296.36|M1979787155|           0.0|           0.0|      0|             0|\n",
            "|   1| PAYMENT|  1864.28|C1666544295|      21249.0|      19384.72|M2044282225|           0.0|           0.0|      0|             0|\n",
            "|   1|TRANSFER|    181.0|C1305486145|        181.0|           0.0| C553264065|           0.0|           0.0|      1|             0|\n",
            "|   1|CASH_OUT|    181.0| C840083671|        181.0|           0.0|  C38997010|       21182.0|           0.0|      1|             0|\n",
            "|   1| PAYMENT| 11668.14|C2048537720|      41554.0|      29885.86|M1230701703|           0.0|           0.0|      0|             0|\n",
            "|   1| PAYMENT|  7817.71|  C90045638|      53860.0|      46042.29| M573487274|           0.0|           0.0|      0|             0|\n",
            "|   1| PAYMENT|  7107.77| C154988899|     183195.0|     176087.23| M408069119|           0.0|           0.0|      0|             0|\n",
            "|   1| PAYMENT|  7861.64|C1912850431|    176087.23|     168225.59| M633326333|           0.0|           0.0|      0|             0|\n",
            "|   1| PAYMENT|  4024.36|C1265012928|       2671.0|           0.0|M1176932104|           0.0|           0.0|      0|             0|\n",
            "|   1|   DEBIT|  5337.77| C712410124|      41720.0|      36382.23| C195600860|       41898.0|      40348.79|      0|             0|\n",
            "|   1|   DEBIT|  9644.94|C1900366749|       4465.0|           0.0| C997608398|       10845.0|     157982.12|      0|             0|\n",
            "|   1| PAYMENT|  3099.97| C249177573|      20771.0|      17671.03|M2096539129|           0.0|           0.0|      0|             0|\n",
            "|   1| PAYMENT|  2560.74|C1648232591|       5070.0|       2509.26| M972865270|           0.0|           0.0|      0|             0|\n",
            "|   1| PAYMENT| 11633.76|C1716932897|      10127.0|           0.0| M801569151|           0.0|           0.0|      0|             0|\n",
            "|   1| PAYMENT|  4098.78|C1026483832|     503264.0|     499165.22|M1635378213|           0.0|           0.0|      0|             0|\n",
            "|   1|CASH_OUT|229133.94| C905080434|      15325.0|           0.0| C476402209|        5083.0|      51513.44|      0|             0|\n",
            "|   1| PAYMENT|  1563.82| C761750706|        450.0|           0.0|M1731217984|           0.0|           0.0|      0|             0|\n",
            "|   1| PAYMENT|  1157.86|C1237762639|      21156.0|      19998.14|M1877062907|           0.0|           0.0|      0|             0|\n",
            "|   1| PAYMENT|   671.64|C2033524545|      15123.0|      14451.36| M473053293|           0.0|           0.0|      0|             0|\n",
            "|   1|TRANSFER| 215310.3|C1670993182|        705.0|           0.0|C1100439041|       22425.0|           0.0|      0|             0|\n",
            "+----+--------+---------+-----------+-------------+--------------+-----------+--------------+--------------+-------+--------------+\n",
            "only showing top 20 rows\n",
            "\n"
          ]
        }
      ]
    },
    {
      "cell_type": "markdown",
      "metadata": {
        "id": "hxCZhvQ8_cUp"
      },
      "source": [
        "## Data Cleaning"
      ]
    },
    {
      "cell_type": "code",
      "metadata": {
        "id": "qWA5qVGfUYmB",
        "colab": {
          "base_uri": "https://localhost:8080/"
        },
        "outputId": "f822220a-0181-4614-ee6d-a7ec0ea12c73"
      },
      "source": [
        "# Análise e limpeza de dados\n",
        "query= \"\"\"\n",
        "      Select isFraud, count(isFraud)\n",
        "      from base\n",
        "      group by isFraud\n",
        "\"\"\"\n",
        "\n",
        "spark.sql(query).show()"
      ],
      "execution_count": null,
      "outputs": [
        {
          "output_type": "stream",
          "name": "stdout",
          "text": [
            "+-------+--------------+\n",
            "|isFraud|count(isFraud)|\n",
            "+-------+--------------+\n",
            "|      1|          8213|\n",
            "|      0|       6354407|\n",
            "+-------+--------------+\n",
            "\n"
          ]
        }
      ]
    },
    {
      "cell_type": "code",
      "source": [
        "query = \"\"\"\n",
        "  SELECT CASE WHEN type = 'PAYMENT ' THEN 0 WHEN type = 'CASH-IN ' THEN 1 WHEN type = 'CASH-OUT ' THEN 2 WHEN type = 'TRANSFER' THEN 3 ELSE 4 END as type,\n",
        " amount, oldbalanceOrg, newbalanceOrig, oldbalanceDest,\n",
        "  newbalanceDest, isFraud\n",
        "  FROM base\n",
        "  \"\"\"\n",
        "\n",
        "dataframe = spark.sql(query)\n",
        "dataframe.createOrReplaceTempView('base1')"
      ],
      "metadata": {
        "id": "mg4NcTMbPQx1"
      },
      "execution_count": null,
      "outputs": []
    },
    {
      "cell_type": "code",
      "source": [
        "query = \"\"\"\n",
        "        Select * from ((\n",
        "          Select * from base1 WHERE isFraud=0 LIMIT 8213)\n",
        "          UNION ALL (\n",
        "            SELECT * from base1 WHERE isFraud=1 Limit 8213))\n",
        "\"\"\"\n",
        "\n",
        "dataframe= spark.sql(query)"
      ],
      "metadata": {
        "id": "XFH7Q3NCPR4J"
      },
      "execution_count": null,
      "outputs": []
    },
    {
      "cell_type": "code",
      "source": [
        "df = dataframe.toPandas()\n",
        "\n",
        "# sample- amostragem aleatória\n",
        "df = df.sample(frac=0.7)"
      ],
      "metadata": {
        "id": "I_qyZUyOR5pB"
      },
      "execution_count": null,
      "outputs": []
    },
    {
      "cell_type": "code",
      "source": [
        "# Treinamento do modelo\n",
        "df.head()"
      ],
      "metadata": {
        "id": "gDjRhP_HR6iD",
        "colab": {
          "base_uri": "https://localhost:8080/",
          "height": 206
        },
        "outputId": "f768f6ab-eb3e-4c6d-b0e5-554c063d9886"
      },
      "execution_count": null,
      "outputs": [
        {
          "output_type": "execute_result",
          "data": {
            "text/plain": [
              "       type      amount  oldbalanceOrg  newbalanceOrig  oldbalanceDest  \\\n",
              "5457      4     5830.20       16232.00        10401.80            0.00   \n",
              "3982      4   344106.28     1285034.84      1629141.12      3496462.74   \n",
              "1133      4     1668.11        1080.00            0.00        17145.04   \n",
              "166       4   114712.48           0.00            0.00       145400.00   \n",
              "13365     4  1424002.70     1424002.70            0.00        11407.50   \n",
              "\n",
              "       newbalanceDest  isFraud  \n",
              "5457             0.00        0  \n",
              "3982       2943614.60        0  \n",
              "1133          9672.67        0  \n",
              "166              0.00        0  \n",
              "13365      1435410.19        1  "
            ],
            "text/html": [
              "\n",
              "  <div id=\"df-d8d18459-c206-4531-a768-64aea1ce805b\">\n",
              "    <div class=\"colab-df-container\">\n",
              "      <div>\n",
              "<style scoped>\n",
              "    .dataframe tbody tr th:only-of-type {\n",
              "        vertical-align: middle;\n",
              "    }\n",
              "\n",
              "    .dataframe tbody tr th {\n",
              "        vertical-align: top;\n",
              "    }\n",
              "\n",
              "    .dataframe thead th {\n",
              "        text-align: right;\n",
              "    }\n",
              "</style>\n",
              "<table border=\"1\" class=\"dataframe\">\n",
              "  <thead>\n",
              "    <tr style=\"text-align: right;\">\n",
              "      <th></th>\n",
              "      <th>type</th>\n",
              "      <th>amount</th>\n",
              "      <th>oldbalanceOrg</th>\n",
              "      <th>newbalanceOrig</th>\n",
              "      <th>oldbalanceDest</th>\n",
              "      <th>newbalanceDest</th>\n",
              "      <th>isFraud</th>\n",
              "    </tr>\n",
              "  </thead>\n",
              "  <tbody>\n",
              "    <tr>\n",
              "      <th>5457</th>\n",
              "      <td>4</td>\n",
              "      <td>5830.20</td>\n",
              "      <td>16232.00</td>\n",
              "      <td>10401.80</td>\n",
              "      <td>0.00</td>\n",
              "      <td>0.00</td>\n",
              "      <td>0</td>\n",
              "    </tr>\n",
              "    <tr>\n",
              "      <th>3982</th>\n",
              "      <td>4</td>\n",
              "      <td>344106.28</td>\n",
              "      <td>1285034.84</td>\n",
              "      <td>1629141.12</td>\n",
              "      <td>3496462.74</td>\n",
              "      <td>2943614.60</td>\n",
              "      <td>0</td>\n",
              "    </tr>\n",
              "    <tr>\n",
              "      <th>1133</th>\n",
              "      <td>4</td>\n",
              "      <td>1668.11</td>\n",
              "      <td>1080.00</td>\n",
              "      <td>0.00</td>\n",
              "      <td>17145.04</td>\n",
              "      <td>9672.67</td>\n",
              "      <td>0</td>\n",
              "    </tr>\n",
              "    <tr>\n",
              "      <th>166</th>\n",
              "      <td>4</td>\n",
              "      <td>114712.48</td>\n",
              "      <td>0.00</td>\n",
              "      <td>0.00</td>\n",
              "      <td>145400.00</td>\n",
              "      <td>0.00</td>\n",
              "      <td>0</td>\n",
              "    </tr>\n",
              "    <tr>\n",
              "      <th>13365</th>\n",
              "      <td>4</td>\n",
              "      <td>1424002.70</td>\n",
              "      <td>1424002.70</td>\n",
              "      <td>0.00</td>\n",
              "      <td>11407.50</td>\n",
              "      <td>1435410.19</td>\n",
              "      <td>1</td>\n",
              "    </tr>\n",
              "  </tbody>\n",
              "</table>\n",
              "</div>\n",
              "      <button class=\"colab-df-convert\" onclick=\"convertToInteractive('df-d8d18459-c206-4531-a768-64aea1ce805b')\"\n",
              "              title=\"Convert this dataframe to an interactive table.\"\n",
              "              style=\"display:none;\">\n",
              "        \n",
              "  <svg xmlns=\"http://www.w3.org/2000/svg\" height=\"24px\"viewBox=\"0 0 24 24\"\n",
              "       width=\"24px\">\n",
              "    <path d=\"M0 0h24v24H0V0z\" fill=\"none\"/>\n",
              "    <path d=\"M18.56 5.44l.94 2.06.94-2.06 2.06-.94-2.06-.94-.94-2.06-.94 2.06-2.06.94zm-11 1L8.5 8.5l.94-2.06 2.06-.94-2.06-.94L8.5 2.5l-.94 2.06-2.06.94zm10 10l.94 2.06.94-2.06 2.06-.94-2.06-.94-.94-2.06-.94 2.06-2.06.94z\"/><path d=\"M17.41 7.96l-1.37-1.37c-.4-.4-.92-.59-1.43-.59-.52 0-1.04.2-1.43.59L10.3 9.45l-7.72 7.72c-.78.78-.78 2.05 0 2.83L4 21.41c.39.39.9.59 1.41.59.51 0 1.02-.2 1.41-.59l7.78-7.78 2.81-2.81c.8-.78.8-2.07 0-2.86zM5.41 20L4 18.59l7.72-7.72 1.47 1.35L5.41 20z\"/>\n",
              "  </svg>\n",
              "      </button>\n",
              "      \n",
              "  <style>\n",
              "    .colab-df-container {\n",
              "      display:flex;\n",
              "      flex-wrap:wrap;\n",
              "      gap: 12px;\n",
              "    }\n",
              "\n",
              "    .colab-df-convert {\n",
              "      background-color: #E8F0FE;\n",
              "      border: none;\n",
              "      border-radius: 50%;\n",
              "      cursor: pointer;\n",
              "      display: none;\n",
              "      fill: #1967D2;\n",
              "      height: 32px;\n",
              "      padding: 0 0 0 0;\n",
              "      width: 32px;\n",
              "    }\n",
              "\n",
              "    .colab-df-convert:hover {\n",
              "      background-color: #E2EBFA;\n",
              "      box-shadow: 0px 1px 2px rgba(60, 64, 67, 0.3), 0px 1px 3px 1px rgba(60, 64, 67, 0.15);\n",
              "      fill: #174EA6;\n",
              "    }\n",
              "\n",
              "    [theme=dark] .colab-df-convert {\n",
              "      background-color: #3B4455;\n",
              "      fill: #D2E3FC;\n",
              "    }\n",
              "\n",
              "    [theme=dark] .colab-df-convert:hover {\n",
              "      background-color: #434B5C;\n",
              "      box-shadow: 0px 1px 3px 1px rgba(0, 0, 0, 0.15);\n",
              "      filter: drop-shadow(0px 1px 2px rgba(0, 0, 0, 0.3));\n",
              "      fill: #FFFFFF;\n",
              "    }\n",
              "  </style>\n",
              "\n",
              "      <script>\n",
              "        const buttonEl =\n",
              "          document.querySelector('#df-d8d18459-c206-4531-a768-64aea1ce805b button.colab-df-convert');\n",
              "        buttonEl.style.display =\n",
              "          google.colab.kernel.accessAllowed ? 'block' : 'none';\n",
              "\n",
              "        async function convertToInteractive(key) {\n",
              "          const element = document.querySelector('#df-d8d18459-c206-4531-a768-64aea1ce805b');\n",
              "          const dataTable =\n",
              "            await google.colab.kernel.invokeFunction('convertToInteractive',\n",
              "                                                     [key], {});\n",
              "          if (!dataTable) return;\n",
              "\n",
              "          const docLinkHtml = 'Like what you see? Visit the ' +\n",
              "            '<a target=\"_blank\" href=https://colab.research.google.com/notebooks/data_table.ipynb>data table notebook</a>'\n",
              "            + ' to learn more about interactive tables.';\n",
              "          element.innerHTML = '';\n",
              "          dataTable['output_type'] = 'display_data';\n",
              "          await google.colab.output.renderOutput(dataTable, element);\n",
              "          const docLink = document.createElement('div');\n",
              "          docLink.innerHTML = docLinkHtml;\n",
              "          element.appendChild(docLink);\n",
              "        }\n",
              "      </script>\n",
              "    </div>\n",
              "  </div>\n",
              "  "
            ]
          },
          "metadata": {},
          "execution_count": 47
        }
      ]
    },
    {
      "cell_type": "code",
      "source": [
        "X = df.drop(columns=['isFraud'])\n",
        "y = df['isFraud']"
      ],
      "metadata": {
        "id": "Rslc6dklR-wn"
      },
      "execution_count": null,
      "outputs": []
    },
    {
      "cell_type": "code",
      "source": [
        "X_train, X_test, y_train, y_test = train_test_split(X, y, test_size=0.7, random_state=0)"
      ],
      "metadata": {
        "id": "D-XVSNYsSC-J"
      },
      "execution_count": null,
      "outputs": []
    },
    {
      "cell_type": "code",
      "source": [
        "X_train.shape, X_test.shape"
      ],
      "metadata": {
        "id": "FZ0WtWkvVTiQ",
        "colab": {
          "base_uri": "https://localhost:8080/"
        },
        "outputId": "3015a5d1-d092-4006-bec4-5ad448abc09e"
      },
      "execution_count": null,
      "outputs": [
        {
          "output_type": "execute_result",
          "data": {
            "text/plain": [
              "((3449, 6), (8049, 6))"
            ]
          },
          "metadata": {},
          "execution_count": 50
        }
      ]
    },
    {
      "cell_type": "code",
      "source": [
        "y_train.shape, y_test.shape"
      ],
      "metadata": {
        "id": "MM1PYqL-VV_K",
        "colab": {
          "base_uri": "https://localhost:8080/"
        },
        "outputId": "bd97847b-4c6c-4e64-ceaf-16a07737ea94"
      },
      "execution_count": null,
      "outputs": [
        {
          "output_type": "execute_result",
          "data": {
            "text/plain": [
              "((3449,), (8049,))"
            ]
          },
          "metadata": {},
          "execution_count": 51
        }
      ]
    },
    {
      "cell_type": "code",
      "source": [
        "\n",
        "classificador = DecisionTreeClassifier()\n",
        "classificador.fit(X_train, y_train)"
      ],
      "metadata": {
        "id": "MYd_yphOVxpb",
        "colab": {
          "base_uri": "https://localhost:8080/"
        },
        "outputId": "cb3cb15b-317c-4e7b-b767-64fe3fb884cf"
      },
      "execution_count": null,
      "outputs": [
        {
          "output_type": "execute_result",
          "data": {
            "text/plain": [
              "DecisionTreeClassifier()"
            ]
          },
          "metadata": {},
          "execution_count": 52
        }
      ]
    },
    {
      "cell_type": "code",
      "source": [
        "resultado = classificador.predict(X_test)"
      ],
      "metadata": {
        "id": "WfCjvgoJV1bs"
      },
      "execution_count": null,
      "outputs": []
    },
    {
      "cell_type": "code",
      "source": [
        "resultado"
      ],
      "metadata": {
        "id": "QNhLI1SYV33f",
        "colab": {
          "base_uri": "https://localhost:8080/"
        },
        "outputId": "eec022c6-7f1e-4b4f-c870-6fa0bfb14e38"
      },
      "execution_count": null,
      "outputs": [
        {
          "output_type": "execute_result",
          "data": {
            "text/plain": [
              "array([0, 1, 0, ..., 1, 1, 1], dtype=int32)"
            ]
          },
          "metadata": {},
          "execution_count": 54
        }
      ]
    },
    {
      "cell_type": "code",
      "source": [
        "y_test.values"
      ],
      "metadata": {
        "id": "94jA9vg0WF6r",
        "colab": {
          "base_uri": "https://localhost:8080/"
        },
        "outputId": "c1a7bde6-4ab9-45a3-ade6-cf7eca3d825c"
      },
      "execution_count": null,
      "outputs": [
        {
          "output_type": "execute_result",
          "data": {
            "text/plain": [
              "array([0, 1, 0, ..., 1, 1, 1], dtype=int32)"
            ]
          },
          "metadata": {},
          "execution_count": 55
        }
      ]
    },
    {
      "cell_type": "code",
      "source": [
        "# Avaliação do modelo\n",
        "print(metrics.classification_report(y_test, resultado))"
      ],
      "metadata": {
        "id": "gjnc_aNdWHrU",
        "colab": {
          "base_uri": "https://localhost:8080/"
        },
        "outputId": "d4794507-47b6-49c5-cf2a-426bbdbb21ad"
      },
      "execution_count": null,
      "outputs": [
        {
          "output_type": "stream",
          "name": "stdout",
          "text": [
            "              precision    recall  f1-score   support\n",
            "\n",
            "           0       0.99      0.99      0.99      3989\n",
            "           1       0.99      0.99      0.99      4060\n",
            "\n",
            "    accuracy                           0.99      8049\n",
            "   macro avg       0.99      0.99      0.99      8049\n",
            "weighted avg       0.99      0.99      0.99      8049\n",
            "\n"
          ]
        }
      ]
    },
    {
      "cell_type": "code",
      "source": [
        "classificador.fit(X_train, y_train)"
      ],
      "metadata": {
        "id": "z31mCrEX3p0M"
      },
      "execution_count": null,
      "outputs": []
    },
    {
      "cell_type": "code",
      "source": [
        "# Comparação dos resultados\n",
        "confusion_matrix(y_test, resultado)"
      ],
      "metadata": {
        "id": "aAv5vcDXWJqi"
      },
      "execution_count": null,
      "outputs": []
    },
    {
      "cell_type": "code",
      "source": [
        "tn, fp, fn, tp = confusion_matrix(y_test, resultado).ravel()\n",
        "print(tn, fp, fn, tp)"
      ],
      "metadata": {
        "id": "W5PRhkHCWRqY"
      },
      "execution_count": null,
      "outputs": []
    },
    {
      "cell_type": "code",
      "source": [
        "acuracia = (tp + tn)/ (tp + tn + fp + fn)\n",
        "print(round(acuracia, 2))"
      ],
      "metadata": {
        "id": "bKKuSa80WN5C"
      },
      "execution_count": null,
      "outputs": []
    },
    {
      "cell_type": "code",
      "source": [
        "# Impacto das características no aprendizado\n",
        "classificador.feature_importances_"
      ],
      "metadata": {
        "id": "5zSOqZ1oWPy8"
      },
      "execution_count": null,
      "outputs": []
    },
    {
      "cell_type": "code",
      "source": [
        "# Relevância das colunas\n",
        "features = pd.Series(classificador.feature_importances_, index=X_train.columns).sort_values(ascending=False)"
      ],
      "metadata": {
        "id": "ur1MFlNWWU07"
      },
      "execution_count": null,
      "outputs": []
    },
    {
      "cell_type": "code",
      "source": [
        "features"
      ],
      "metadata": {
        "id": "594WGwO0WXBL"
      },
      "execution_count": null,
      "outputs": []
    },
    {
      "cell_type": "code",
      "source": [
        "features.plot.barh()\n",
        "plt.ylabel('Features')\n",
        "plt.xlabel('Importância')\n",
        "plt.show();"
      ],
      "metadata": {
        "id": "MrfCB8H1WYtE"
      },
      "execution_count": null,
      "outputs": []
    }
  ]
}